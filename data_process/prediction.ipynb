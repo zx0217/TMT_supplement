{
 "cells": [
  {
   "cell_type": "code",
   "execution_count": 2,
   "id": "23a8e41c",
   "metadata": {},
   "outputs": [
    {
     "name": "stdout",
     "output_type": "stream",
     "text": [
      "Requirement already satisfied: numpy in /opt/anaconda3/envs/fit5197/lib/python3.8/site-packages (1.22.3)\r\n"
     ]
    }
   ],
   "source": [
    "import sys\n",
    "!{sys.executable} -m pip --default-timeout=100 install numpy"
   ]
  },
  {
   "cell_type": "code",
   "execution_count": 3,
   "id": "05f8ed2d",
   "metadata": {},
   "outputs": [
    {
     "name": "stdout",
     "output_type": "stream",
     "text": [
      "Requirement already satisfied: scikit-learn in /opt/anaconda3/envs/fit5197/lib/python3.8/site-packages (1.0.2)\n",
      "Requirement already satisfied: scipy>=1.1.0 in /opt/anaconda3/envs/fit5197/lib/python3.8/site-packages (from scikit-learn) (1.8.0)\n",
      "Requirement already satisfied: joblib>=0.11 in /opt/anaconda3/envs/fit5197/lib/python3.8/site-packages (from scikit-learn) (1.1.0)\n",
      "Requirement already satisfied: threadpoolctl>=2.0.0 in /opt/anaconda3/envs/fit5197/lib/python3.8/site-packages (from scikit-learn) (3.1.0)\n",
      "Requirement already satisfied: numpy>=1.14.6 in /opt/anaconda3/envs/fit5197/lib/python3.8/site-packages (from scikit-learn) (1.22.3)\n"
     ]
    }
   ],
   "source": [
    "!{sys.executable} -m pip --default-timeout=100 install scikit-learn"
   ]
  },
  {
   "cell_type": "code",
   "execution_count": 4,
   "id": "b1664476",
   "metadata": {},
   "outputs": [
    {
     "name": "stdout",
     "output_type": "stream",
     "text": [
      "Requirement already satisfied: pandas in /opt/anaconda3/envs/fit5197/lib/python3.8/site-packages (1.4.2)\r\n",
      "Requirement already satisfied: pytz>=2020.1 in /opt/anaconda3/envs/fit5197/lib/python3.8/site-packages (from pandas) (2022.1)\r\n",
      "Requirement already satisfied: numpy>=1.18.5 in /opt/anaconda3/envs/fit5197/lib/python3.8/site-packages (from pandas) (1.22.3)\r\n",
      "Requirement already satisfied: python-dateutil>=2.8.1 in /opt/anaconda3/envs/fit5197/lib/python3.8/site-packages (from pandas) (2.8.2)\r\n",
      "Requirement already satisfied: six>=1.5 in /opt/anaconda3/envs/fit5197/lib/python3.8/site-packages (from python-dateutil>=2.8.1->pandas) (1.16.0)\r\n"
     ]
    }
   ],
   "source": [
    "!{sys.executable} -m pip --default-timeout=100 install pandas"
   ]
  },
  {
   "cell_type": "code",
   "execution_count": 5,
   "id": "8a22553f",
   "metadata": {},
   "outputs": [],
   "source": [
    "import numpy as np"
   ]
  },
  {
   "cell_type": "code",
   "execution_count": 6,
   "id": "d98b2c81",
   "metadata": {},
   "outputs": [],
   "source": [
    "import pandas as pd"
   ]
  },
  {
   "cell_type": "code",
   "execution_count": 7,
   "id": "5ee0d09c",
   "metadata": {},
   "outputs": [],
   "source": [
    "from sklearn.linear_model import LinearRegression"
   ]
  },
  {
   "cell_type": "code",
   "execution_count": 8,
   "id": "cd9a92fe",
   "metadata": {},
   "outputs": [],
   "source": [
    "df = pd.read_csv('/Users/apple/Desktop/666/Sheet 3-y.csv')"
   ]
  },
  {
   "cell_type": "code",
   "execution_count": 115,
   "id": "bd4b4c5a",
   "metadata": {},
   "outputs": [],
   "source": [
    "dp = pd.read_csv('/Users/apple/Desktop/newww.csv')"
   ]
  },
  {
   "cell_type": "raw",
   "id": "036053ef",
   "metadata": {},
   "source": []
  },
  {
   "cell_type": "code",
   "execution_count": 121,
   "id": "d2abf703",
   "metadata": {},
   "outputs": [
    {
     "name": "stdout",
     "output_type": "stream",
     "text": [
      "0     2001\n",
      "1     2002\n",
      "2     2003\n",
      "3     2004\n",
      "4     2005\n",
      "5     2006\n",
      "6     2007\n",
      "7     2008\n",
      "8     2009\n",
      "9     2010\n",
      "10    2011\n",
      "11    2012\n",
      "12    2013\n",
      "13    2014\n",
      "14    2015\n",
      "15    2016\n",
      "16    2017\n",
      "17    2018\n",
      "18    2019\n",
      "19    2020\n",
      "Name: year, dtype: int64\n"
     ]
    }
   ],
   "source": [
    "print(df['year'])"
   ]
  },
  {
   "cell_type": "code",
   "execution_count": 9,
   "id": "d752ad71",
   "metadata": {},
   "outputs": [
    {
     "name": "stdout",
     "output_type": "stream",
     "text": [
      "intercept: -207322990.17067674\n",
      "slope: [105902.7593985]\n"
     ]
    }
   ],
   "source": [
    "\n",
    "\n",
    "\n",
    "\n",
    "#x = np.array([2000,2001,2002,2003,2004,2005,2006,2007,2008,2009,2010,2011,2012,2013,2014,2015,2016,2017,2018,2019,2020]).reshape((-1, 1))\n",
    "#y = np.array([2682536,2754258,2822384,2873351,2933746,2997856,3049224,3120048,3178777,3249418,3310682,3373564,3446548,3519491,3581815,3666505,3750484,3838133,3907572,3963818,3970844])\n",
    "\n",
    "x = np.array(df[['year']]).reshape(-1, 1)\n",
    "y = np.array(df['vehicle'])\n",
    "\n",
    "model = LinearRegression()\n",
    "\n",
    "model.fit(x, y)\n",
    "\n",
    "##r_sq = model.score(x, y)\n",
    "#print('coefficient of determination:', r_sq)\n",
    "\n",
    "print('intercept:', model.intercept_)\n",
    "\n",
    "print('slope:', model.coef_)"
   ]
  },
  {
   "cell_type": "code",
   "execution_count": 11,
   "id": "1633c8c3",
   "metadata": {},
   "outputs": [
    {
     "data": {
      "text/plain": [
       "array([7659611.40827066])"
      ]
     },
     "execution_count": 11,
     "metadata": {},
     "output_type": "execute_result"
    }
   ],
   "source": [
    "model.predict(np.array([2030]).reshape((-1, 1)))"
   ]
  },
  {
   "cell_type": "code",
   "execution_count": 114,
   "id": "0fc4046a",
   "metadata": {},
   "outputs": [
    {
     "name": "stderr",
     "output_type": "stream",
     "text": [
      "/opt/anaconda3/envs/fit5197/lib/python3.8/site-packages/sklearn/base.py:493: FutureWarning: The feature names should match those that were passed during fit. Starting version 1.2, an error will be raised.\n",
      "Feature names unseen at fit time:\n",
      "- 75%\n",
      "Feature names seen at fit time, yet now missing:\n",
      "- passenger_vehciles\n",
      "\n",
      "  warnings.warn(message, FutureWarning)\n"
     ]
    },
    {
     "data": {
      "text/plain": [
       "array([22194.43802465, 22550.01520134, 22809.76060264, 22907.70321008,\n",
       "       23055.24612782, 23323.4669795 , 23396.5586383 , 23676.03119514,\n",
       "       23801.2991767 , 24067.16965345, 24264.25570004, 24409.36000506,\n",
       "       24623.67209452, 24910.00446821, 24985.1989124 , 25213.2957491 ,\n",
       "       25415.52915745, 25762.21573606, 26078.2625059 , 26630.06953314])"
      ]
     },
     "execution_count": 114,
     "metadata": {},
     "output_type": "execute_result"
    }
   ],
   "source": [
    "model.predict(dp[['population','75%']])"
   ]
  },
  {
   "cell_type": "code",
   "execution_count": 40,
   "id": "e149d98c",
   "metadata": {},
   "outputs": [
    {
     "data": {
      "text/plain": [
       "array([5336913.25541125])"
      ]
     },
     "execution_count": 40,
     "metadata": {},
     "output_type": "execute_result"
    }
   ],
   "source": [
    "model.predict(np.array([2040]).reshape((-1, 1)))"
   ]
  },
  {
   "cell_type": "code",
   "execution_count": 70,
   "id": "6a869455",
   "metadata": {},
   "outputs": [
    {
     "ename": "AttributeError",
     "evalue": "'numpy.ndarray' object has no attribute 'to_csv'",
     "output_type": "error",
     "traceback": [
      "\u001b[0;31m---------------------------------------------------------------------------\u001b[0m",
      "\u001b[0;31mAttributeError\u001b[0m                            Traceback (most recent call last)",
      "\u001b[0;32m/var/folders/c9/qzx9td_d2h3bmqg4y53pxxpc0000gn/T/ipykernel_2199/2196423531.py\u001b[0m in \u001b[0;36m<module>\u001b[0;34m\u001b[0m\n\u001b[0;32m----> 1\u001b[0;31m \u001b[0mmodel\u001b[0m\u001b[0;34m.\u001b[0m\u001b[0mpredict\u001b[0m\u001b[0;34m(\u001b[0m\u001b[0mnp\u001b[0m\u001b[0;34m.\u001b[0m\u001b[0marray\u001b[0m\u001b[0;34m(\u001b[0m\u001b[0mdp\u001b[0m\u001b[0;34m[\u001b[0m\u001b[0;34m'passenger_vehicles'\u001b[0m\u001b[0;34m]\u001b[0m\u001b[0;34m)\u001b[0m\u001b[0;34m.\u001b[0m\u001b[0mreshape\u001b[0m\u001b[0;34m(\u001b[0m\u001b[0;34m(\u001b[0m\u001b[0;34m-\u001b[0m\u001b[0;36m1\u001b[0m\u001b[0;34m,\u001b[0m \u001b[0;36m1\u001b[0m\u001b[0;34m)\u001b[0m\u001b[0;34m)\u001b[0m\u001b[0;34m)\u001b[0m\u001b[0;34m.\u001b[0m\u001b[0mto_csv\u001b[0m\u001b[0;34m(\u001b[0m\u001b[0;34m'/Users/apple/Desktop/population/output.csv'\u001b[0m\u001b[0;34m)\u001b[0m\u001b[0;34m\u001b[0m\u001b[0;34m\u001b[0m\u001b[0m\n\u001b[0m",
      "\u001b[0;31mAttributeError\u001b[0m: 'numpy.ndarray' object has no attribute 'to_csv'"
     ]
    }
   ],
   "source": [
    "model.predict(np.array(dp['passenger_vehicles']).reshape((-1, 1))).to_csv('/Users/apple/Desktop/population/output.csv')  "
   ]
  },
  {
   "cell_type": "code",
   "execution_count": null,
   "id": "59348324",
   "metadata": {},
   "outputs": [],
   "source": []
  }
 ],
 "metadata": {
  "kernelspec": {
   "display_name": "Python 3 (ipykernel)",
   "language": "python",
   "name": "python3"
  },
  "language_info": {
   "codemirror_mode": {
    "name": "ipython",
    "version": 3
   },
   "file_extension": ".py",
   "mimetype": "text/x-python",
   "name": "python",
   "nbconvert_exporter": "python",
   "pygments_lexer": "ipython3",
   "version": "3.8.2"
  }
 },
 "nbformat": 4,
 "nbformat_minor": 5
}
